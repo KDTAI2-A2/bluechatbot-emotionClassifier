{
  "nbformat": 4,
  "nbformat_minor": 0,
  "metadata": {
    "accelerator": "GPU",
    "colab": {
      "name": "train-kobert-for-classification.ipynb",
      "provenance": [],
      "collapsed_sections": [],
      "machine_shape": "hm"
    },
    "kernelspec": {
      "display_name": "Python 3",
      "name": "python3"
    }
  },
  "cells": [
    {
      "cell_type": "markdown",
      "metadata": {
        "id": "NCpnYj2bfXvG"
      },
      "source": [
        "# Aihub 감성 대화 데이터에 대한 KoBERT 학습"
      ]
    },
    {
      "cell_type": "markdown",
      "metadata": {
        "id": "EN1oD-YEfukE"
      },
      "source": [
        "## 1.Google Drive 연동\n",
        "- 모델 파일과 학습 데이터가 저장 되어있는 구글 드라이브의 디렉토리와 Colab을 연동.  \n",
        "- 좌측상단 메뉴에서 런타임-> 런타임 유형 변경 -> 하드웨어 가속기 -> GPU 선택 후 저장"
      ]
    },
    {
      "cell_type": "markdown",
      "metadata": {
        "id": "7TlLDiAJf0Zz"
      },
      "source": [
        "### GPU 사양 확인"
      ]
    },
    {
      "cell_type": "code",
      "metadata": {
        "colab": {
          "base_uri": "https://localhost:8080/"
        },
        "id": "Q1qPeOGVfkb_",
        "outputId": "dccbdb6b-2fc1-4289-db20-12e4dea1ca58"
      },
      "source": [
        "!nvidia-smi"
      ],
      "execution_count": null,
      "outputs": [
        {
          "name": "stdout",
          "output_type": "stream",
          "text": [
            "Sat Aug 28 13:17:07 2021       \n",
            "+-----------------------------------------------------------------------------+\n",
            "| NVIDIA-SMI 470.57.02    Driver Version: 460.32.03    CUDA Version: 11.2     |\n",
            "|-------------------------------+----------------------+----------------------+\n",
            "| GPU  Name        Persistence-M| Bus-Id        Disp.A | Volatile Uncorr. ECC |\n",
            "| Fan  Temp  Perf  Pwr:Usage/Cap|         Memory-Usage | GPU-Util  Compute M. |\n",
            "|                               |                      |               MIG M. |\n",
            "|===============================+======================+======================|\n",
            "|   0  Tesla V100-SXM2...  Off  | 00000000:00:04.0 Off |                    0 |\n",
            "| N/A   38C    P0    24W / 300W |      0MiB / 16160MiB |      0%      Default |\n",
            "|                               |                      |                  N/A |\n",
            "+-------------------------------+----------------------+----------------------+\n",
            "                                                                               \n",
            "+-----------------------------------------------------------------------------+\n",
            "| Processes:                                                                  |\n",
            "|  GPU   GI   CI        PID   Type   Process name                  GPU Memory |\n",
            "|        ID   ID                                                   Usage      |\n",
            "|=============================================================================|\n",
            "|  No running processes found                                                 |\n",
            "+-----------------------------------------------------------------------------+\n"
          ]
        }
      ]
    },
    {
      "cell_type": "markdown",
      "metadata": {
        "id": "9tW2_JPaf79o"
      },
      "source": [
        "### Google Drive 연동\n",
        "아래 코드를 실행후 나오는 URL을 클릭하여 나오는 인증 코드 입력"
      ]
    },
    {
      "cell_type": "code",
      "metadata": {
        "colab": {
          "base_uri": "https://localhost:8080/"
        },
        "id": "7voF7JHtf4J5",
        "outputId": "3d400a09-2352-4ce9-9916-3ad074ec19d3"
      },
      "source": [
        "from google.colab import drive\n",
        "drive.mount('/content/drive')"
      ],
      "execution_count": null,
      "outputs": [
        {
          "name": "stdout",
          "output_type": "stream",
          "text": [
            "Drive already mounted at /content/drive; to attempt to forcibly remount, call drive.mount(\"/content/drive\", force_remount=True).\n"
          ]
        }
      ]
    },
    {
      "cell_type": "markdown",
      "metadata": {
        "id": "wA36dTxFgMA8"
      },
      "source": [
        "**필요 패키지 설치**"
      ]
    },
    {
      "cell_type": "code",
      "metadata": {
        "colab": {
          "base_uri": "https://localhost:8080/"
        },
        "id": "OdbnMf8NjSHN",
        "outputId": "ffd5f33f-4e23-4ab4-97f1-853ea82a8ea5"
      },
      "source": [
        "!pip install -r drive/'My Drive'/ML/KDT/Final/conversationModel/requirements.txt"
      ],
      "execution_count": null,
      "outputs": [
        {
          "name": "stdout",
          "output_type": "stream",
          "text": [
            "Requirement already satisfied: kobert-transformers==0.4.1 in /usr/local/lib/python3.7/dist-packages (from -r drive/My Drive/ML/KDT/Final/conversationModel/requirements.txt (line 1)) (0.4.1)\n",
            "Requirement already satisfied: kogpt2-transformers==0.3.0 in /usr/local/lib/python3.7/dist-packages (from -r drive/My Drive/ML/KDT/Final/conversationModel/requirements.txt (line 2)) (0.3.0)\n",
            "Requirement already satisfied: transformers==3.0.2 in /usr/local/lib/python3.7/dist-packages (from -r drive/My Drive/ML/KDT/Final/conversationModel/requirements.txt (line 3)) (3.0.2)\n",
            "Requirement already satisfied: torch in /usr/local/lib/python3.7/dist-packages (from -r drive/My Drive/ML/KDT/Final/conversationModel/requirements.txt (line 4)) (1.9.0+cu102)\n",
            "Requirement already satisfied: tokenizers==0.8.1rc1 in /usr/local/lib/python3.7/dist-packages (from -r drive/My Drive/ML/KDT/Final/conversationModel/requirements.txt (line 5)) (0.8.1rc1)\n",
            "Requirement already satisfied: kss in /usr/local/lib/python3.7/dist-packages (from -r drive/My Drive/ML/KDT/Final/conversationModel/requirements.txt (line 6)) (3.1.0.4)\n",
            "Requirement already satisfied: flask in /usr/local/lib/python3.7/dist-packages (from -r drive/My Drive/ML/KDT/Final/conversationModel/requirements.txt (line 7)) (1.1.4)\n",
            "Requirement already satisfied: flask_restful in /usr/local/lib/python3.7/dist-packages (from -r drive/My Drive/ML/KDT/Final/conversationModel/requirements.txt (line 8)) (0.3.9)\n",
            "Requirement already satisfied: xlsxwriter in /usr/local/lib/python3.7/dist-packages (from -r drive/My Drive/ML/KDT/Final/conversationModel/requirements.txt (line 9)) (3.0.1)\n",
            "Requirement already satisfied: tqdm>=4.27 in /usr/local/lib/python3.7/dist-packages (from transformers==3.0.2->-r drive/My Drive/ML/KDT/Final/conversationModel/requirements.txt (line 3)) (4.62.0)\n",
            "Requirement already satisfied: regex!=2019.12.17 in /usr/local/lib/python3.7/dist-packages (from transformers==3.0.2->-r drive/My Drive/ML/KDT/Final/conversationModel/requirements.txt (line 3)) (2019.12.20)\n",
            "Requirement already satisfied: numpy in /usr/local/lib/python3.7/dist-packages (from transformers==3.0.2->-r drive/My Drive/ML/KDT/Final/conversationModel/requirements.txt (line 3)) (1.19.5)\n",
            "Requirement already satisfied: packaging in /usr/local/lib/python3.7/dist-packages (from transformers==3.0.2->-r drive/My Drive/ML/KDT/Final/conversationModel/requirements.txt (line 3)) (21.0)\n",
            "Requirement already satisfied: requests in /usr/local/lib/python3.7/dist-packages (from transformers==3.0.2->-r drive/My Drive/ML/KDT/Final/conversationModel/requirements.txt (line 3)) (2.23.0)\n",
            "Requirement already satisfied: filelock in /usr/local/lib/python3.7/dist-packages (from transformers==3.0.2->-r drive/My Drive/ML/KDT/Final/conversationModel/requirements.txt (line 3)) (3.0.12)\n",
            "Requirement already satisfied: sentencepiece!=0.1.92 in /usr/local/lib/python3.7/dist-packages (from transformers==3.0.2->-r drive/My Drive/ML/KDT/Final/conversationModel/requirements.txt (line 3)) (0.1.96)\n",
            "Requirement already satisfied: sacremoses in /usr/local/lib/python3.7/dist-packages (from transformers==3.0.2->-r drive/My Drive/ML/KDT/Final/conversationModel/requirements.txt (line 3)) (0.0.45)\n",
            "Requirement already satisfied: typing-extensions in /usr/local/lib/python3.7/dist-packages (from torch->-r drive/My Drive/ML/KDT/Final/conversationModel/requirements.txt (line 4)) (3.7.4.3)\n",
            "Requirement already satisfied: emoji in /usr/local/lib/python3.7/dist-packages (from kss->-r drive/My Drive/ML/KDT/Final/conversationModel/requirements.txt (line 6)) (1.4.2)\n",
            "Requirement already satisfied: Werkzeug<2.0,>=0.15 in /usr/local/lib/python3.7/dist-packages (from flask->-r drive/My Drive/ML/KDT/Final/conversationModel/requirements.txt (line 7)) (1.0.1)\n",
            "Requirement already satisfied: itsdangerous<2.0,>=0.24 in /usr/local/lib/python3.7/dist-packages (from flask->-r drive/My Drive/ML/KDT/Final/conversationModel/requirements.txt (line 7)) (1.1.0)\n",
            "Requirement already satisfied: Jinja2<3.0,>=2.10.1 in /usr/local/lib/python3.7/dist-packages (from flask->-r drive/My Drive/ML/KDT/Final/conversationModel/requirements.txt (line 7)) (2.11.3)\n",
            "Requirement already satisfied: click<8.0,>=5.1 in /usr/local/lib/python3.7/dist-packages (from flask->-r drive/My Drive/ML/KDT/Final/conversationModel/requirements.txt (line 7)) (7.1.2)\n",
            "Requirement already satisfied: MarkupSafe>=0.23 in /usr/local/lib/python3.7/dist-packages (from Jinja2<3.0,>=2.10.1->flask->-r drive/My Drive/ML/KDT/Final/conversationModel/requirements.txt (line 7)) (2.0.1)\n",
            "Requirement already satisfied: aniso8601>=0.82 in /usr/local/lib/python3.7/dist-packages (from flask_restful->-r drive/My Drive/ML/KDT/Final/conversationModel/requirements.txt (line 8)) (9.0.1)\n",
            "Requirement already satisfied: pytz in /usr/local/lib/python3.7/dist-packages (from flask_restful->-r drive/My Drive/ML/KDT/Final/conversationModel/requirements.txt (line 8)) (2018.9)\n",
            "Requirement already satisfied: six>=1.3.0 in /usr/local/lib/python3.7/dist-packages (from flask_restful->-r drive/My Drive/ML/KDT/Final/conversationModel/requirements.txt (line 8)) (1.15.0)\n",
            "Requirement already satisfied: pyparsing>=2.0.2 in /usr/local/lib/python3.7/dist-packages (from packaging->transformers==3.0.2->-r drive/My Drive/ML/KDT/Final/conversationModel/requirements.txt (line 3)) (2.4.7)\n",
            "Requirement already satisfied: chardet<4,>=3.0.2 in /usr/local/lib/python3.7/dist-packages (from requests->transformers==3.0.2->-r drive/My Drive/ML/KDT/Final/conversationModel/requirements.txt (line 3)) (3.0.4)\n",
            "Requirement already satisfied: urllib3!=1.25.0,!=1.25.1,<1.26,>=1.21.1 in /usr/local/lib/python3.7/dist-packages (from requests->transformers==3.0.2->-r drive/My Drive/ML/KDT/Final/conversationModel/requirements.txt (line 3)) (1.24.3)\n",
            "Requirement already satisfied: certifi>=2017.4.17 in /usr/local/lib/python3.7/dist-packages (from requests->transformers==3.0.2->-r drive/My Drive/ML/KDT/Final/conversationModel/requirements.txt (line 3)) (2021.5.30)\n",
            "Requirement already satisfied: idna<3,>=2.5 in /usr/local/lib/python3.7/dist-packages (from requests->transformers==3.0.2->-r drive/My Drive/ML/KDT/Final/conversationModel/requirements.txt (line 3)) (2.10)\n",
            "Requirement already satisfied: joblib in /usr/local/lib/python3.7/dist-packages (from sacremoses->transformers==3.0.2->-r drive/My Drive/ML/KDT/Final/conversationModel/requirements.txt (line 3)) (1.0.1)\n"
          ]
        }
      ]
    },
    {
      "cell_type": "markdown",
      "metadata": {
        "id": "i51bCZyCjZzy"
      },
      "source": [
        "## KoBERT Classification Training"
      ]
    },
    {
      "cell_type": "markdown",
      "metadata": {
        "id": "Is7her2YinmL"
      },
      "source": [
        "### 환경 세팅"
      ]
    },
    {
      "cell_type": "markdown",
      "metadata": {
        "id": "UFSAkW6MkZb7"
      },
      "source": [
        "**Path 추가**"
      ]
    },
    {
      "cell_type": "code",
      "metadata": {
        "id": "BRNM3Al6kdCI"
      },
      "source": [
        "root_path = \"drive/My Drive/ML/KDT/Final\"\n",
        "code_path = f\"{root_path}/conversationModel\"\n",
        "data_path = f\"{root_path}/dataset/corpus_labeled.xlsx\"\n",
        "checkpoint_path = f\"{code_path}/checkpoint\"\n",
        "save_ckpt_path = f\"{checkpoint_path}/kobert-emotion-text-classification.pth\"\n",
        "\n",
        "import sys\n",
        "sys.path.append(f'{root_path}/')\n",
        "sys.path.append(f'{code_path}/')"
      ],
      "execution_count": null,
      "outputs": []
    },
    {
      "cell_type": "markdown",
      "metadata": {
        "id": "KrFfFlV8jfcg"
      },
      "source": [
        "**import package**"
      ]
    },
    {
      "cell_type": "code",
      "metadata": {
        "colab": {
          "base_uri": "https://localhost:8080/"
        },
        "id": "TS7um4UEsGdi",
        "outputId": "1c3b302b-d707-4407-b179-f20e34c9a910"
      },
      "source": [
        "import os\n",
        "import numpy as np\n",
        "import matplotlib.pyplot as plt\n",
        "import pandas as pd\n",
        "from IPython.display import display\n",
        "from tqdm import tqdm\n",
        "\n",
        "import torch\n",
        "from transformers import AdamW\n",
        "from torch.utils.data import dataloader\n",
        "from conversationModel.dataloader.emotion import EmotionTextClassificationDataset\n",
        "from conversationModel.model.kobert import KoBERTforSequenceClassification\n",
        "\n",
        "from sklearn.preprocessing import LabelEncoder\n",
        "from sklearn.externals import joblib"
      ],
      "execution_count": null,
      "outputs": [
        {
          "name": "stderr",
          "output_type": "stream",
          "text": [
            "/usr/local/lib/python3.7/dist-packages/sklearn/externals/joblib/__init__.py:15: FutureWarning: sklearn.externals.joblib is deprecated in 0.21 and will be removed in 0.23. Please import this functionality directly from joblib, which can be installed with: pip install joblib. If this warning is raised when loading pickled models, you may need to re-serialize those models with scikit-learn 0.21+.\n",
            "  warnings.warn(msg, category=FutureWarning)\n"
          ]
        }
      ]
    },
    {
      "cell_type": "code",
      "metadata": {
        "colab": {
          "base_uri": "https://localhost:8080/"
        },
        "id": "iHvrtMJaoV_Z",
        "outputId": "5a3f700d-eab1-4127-af91-41500c831810"
      },
      "source": [
        "torch.cuda.is_available()"
      ],
      "execution_count": null,
      "outputs": [
        {
          "data": {
            "text/plain": [
              "True"
            ]
          },
          "execution_count": 6,
          "metadata": {},
          "output_type": "execute_result"
        }
      ]
    },
    {
      "cell_type": "markdown",
      "metadata": {
        "id": "DpVJd3A7vKek"
      },
      "source": [
        "### Data Labeling"
      ]
    },
    {
      "cell_type": "markdown",
      "metadata": {
        "id": "dD42zk2r2-k7"
      },
      "source": [
        "**Label Encoder**"
      ]
    },
    {
      "cell_type": "code",
      "metadata": {
        "colab": {
          "base_uri": "https://localhost:8080/"
        },
        "id": "A32A4bP_vKq7",
        "outputId": "a87e2f1b-e567-4d0c-9b94-17c05bf72a4e"
      },
      "source": [
        "corpus = pd.read_excel(root_path + '/dataset/corpus.xlsx')\n",
        "\n",
        "labelencoder = LabelEncoder()\n",
        "labelencoder.fit(corpus['감정_소분류'])\n",
        "corpus['감정_레이블'] = labelencoder.transform(corpus['감정_소분류'])\n",
        "\n",
        "labelencoder.classes_"
      ],
      "execution_count": null,
      "outputs": [
        {
          "data": {
            "text/plain": [
              "array(['가난한, 불우한', '감사하는', '걱정스러운', '고립된', '괴로워하는', '구역질 나는', '기쁨', '낙담한',\n",
              "       '남의 시선을 의식하는', '노여워하는', '눈물이 나는', '느긋', '당혹스러운', '당황', '두려운',\n",
              "       '마비된', '만족스러운', '방어적인', '배신당한', '버려진', '부끄러운', '분노', '불안', '비통한',\n",
              "       '상처', '성가신', '스트레스 받는', '슬픔', '신뢰하는', '신이 난', '실망한', '악의적인',\n",
              "       '안달하는', '안도', '억울한', '열등감', '염세적인', '외로운', '우울한', '자신하는', '조심스러운',\n",
              "       '좌절한', '죄책감의', '질투하는', '짜증내는', '초조한', '충격 받은', '취약한', '툴툴대는',\n",
              "       '편안한', '한심한', '혐오스러운', '혼란스러운', '환멸을 느끼는', '회의적인', '후회되는', '흥분',\n",
              "       '희생된'], dtype=object)"
            ]
          },
          "execution_count": 7,
          "metadata": {},
          "output_type": "execute_result"
        }
      ]
    },
    {
      "cell_type": "markdown",
      "metadata": {
        "id": "qNyCsmry3FYb"
      },
      "source": [
        "**Labeling 결과 및 Encoder 저장**"
      ]
    },
    {
      "cell_type": "code",
      "metadata": {
        "colab": {
          "base_uri": "https://localhost:8080/"
        },
        "id": "ezy45Y6Y3PkI",
        "outputId": "54c52f8f-5d55-40a0-98b4-911448ff3d53"
      },
      "source": [
        "corpus.to_excel(data_path, engine='xlsxwriter')  # 인코딩된 데이터 저장\n",
        "\n",
        "joblib.dump(labelencoder, checkpoint_path + '/labelencoder.pkl') # 인코더 저장"
      ],
      "execution_count": null,
      "outputs": [
        {
          "data": {
            "text/plain": [
              "['drive/My Drive/ML/KDT/Final/conversationModel/checkpoint/labelencoder.pkl']"
            ]
          },
          "execution_count": 8,
          "metadata": {},
          "output_type": "execute_result"
        }
      ]
    },
    {
      "cell_type": "markdown",
      "metadata": {
        "id": "mZuWyjJEjxsF"
      },
      "source": [
        "### KoBERT Classification Training for Emotion dataset"
      ]
    },
    {
      "cell_type": "markdown",
      "metadata": {
        "id": "JuH_ldfXsNn-"
      },
      "source": [
        "**Train 함수**"
      ]
    },
    {
      "cell_type": "code",
      "metadata": {
        "id": "ELfj8XjhsM0n"
      },
      "source": [
        "def train(device, epoch, model, optimizer, train_loader, save_step, save_ckpt_path, train_step = 0):\n",
        "    losses = []\n",
        "    train_start_index = train_step + 1 if train_step != 0 else 0\n",
        "    total_train_step = len(train_loader)\n",
        "    model.train()\n",
        "\n",
        "    with tqdm(total= total_train_step, desc=f\"Train({epoch})\") as pbar:\n",
        "        pbar.update(train_step)\n",
        "        for i, data in enumerate(train_loader):\n",
        "            if i < train_start_index: continue\n",
        "\n",
        "            optimizer.zero_grad()\n",
        "            outputs = model(**data)\n",
        "\n",
        "            loss = outputs[0]\n",
        "\n",
        "            losses.append(loss.item())\n",
        "\n",
        "            loss.backward()\n",
        "            optimizer.step()\n",
        "\n",
        "            pbar.update(1)\n",
        "            pbar.set_postfix_str(f\"Loss: {loss.item():.3f} ({np.mean(losses):.3f})\")\n",
        "\n",
        "            # 학습 진행상황 저장\n",
        "            if i >= total_train_step or i % save_step == 0:\n",
        "                torch.save({\n",
        "                    'epoch': epoch,  # 현재 학습 epoch\n",
        "                    'model_state_dict': model.state_dict(),  # 모델 저장\n",
        "                    'optimizer_state_dict': optimizer.state_dict(),  # 옵티마이저 저장\n",
        "                    'train_step': i,  # 현재 진행한 학습\n",
        "                }, save_ckpt_path)\n",
        "\n",
        "    return np.mean(losses)"
      ],
      "execution_count": null,
      "outputs": []
    },
    {
      "cell_type": "markdown",
      "metadata": {
        "id": "j31BvNBtyaG6"
      },
      "source": [
        "**Training 진행**"
      ]
    },
    {
      "cell_type": "code",
      "metadata": {
        "colab": {
          "background_save": true,
          "base_uri": "https://localhost:8080/"
        },
        "id": "Y9vwUZQ9j0DN",
        "outputId": "1c822803-1314-411a-ea37-e2c4e26cc560"
      },
      "source": [
        "n_epoch = 50          # Num of Epoch\n",
        "batch_size = 13      # 배치 사이즈\n",
        "ctx = \"cuda\" if torch.cuda.is_available() else \"cpu\"\n",
        "device = torch.device(ctx)\n",
        "save_step = 100 # 학습 저장 주기\n",
        "learning_rate = 5e-6  # Learning Rate\n",
        "num_labels = len(labelencoder.classes_) # label\n",
        "\n",
        "# EmotionTextClassificationDataset 데이터 로더\n",
        "dataset = EmotionTextClassificationDataset(file_path=data_path, device=device)\n",
        "train_loader = torch.utils.data.DataLoader(dataset, batch_size=batch_size, shuffle=True)\n",
        "\n",
        "model = KoBERTforSequenceClassification(num_labels=num_labels)\n",
        "model.to(device)\n",
        "\n",
        "# Prepare optimizer and schedule (linear warmup and decay)\n",
        "no_decay = ['bias', 'LayerNorm.weight']\n",
        "optimizer_grouped_parameters = [\n",
        "    {'params': [p for n, p in model.named_parameters() if not any(nd in n for nd in no_decay)],\n",
        "      'weight_decay': 0.01},\n",
        "    {'params': [p for n, p in model.named_parameters() if any(nd in n for nd in no_decay)], 'weight_decay': 0.0}\n",
        "]\n",
        "optimizer = AdamW(optimizer_grouped_parameters, lr=learning_rate)\n",
        "\n",
        "pre_epoch, pre_loss, train_step = 0, 0, 0\n",
        "if os.path.isfile(save_ckpt_path):b\n",
        "    checkpoint = torch.load(save_ckpt_path, map_location=device)\n",
        "    pre_epoch = checkpoint['epoch']\n",
        "    train_step =  checkpoint['train_step']\n",
        "\n",
        "    model.load_state_dict(checkpoint['model_state_dict'])\n",
        "    optimizer.load_state_dict(checkpoint['optimizer_state_dict'])\n",
        "\n",
        "    print(f\"load pretrain from: {save_ckpt_path}, epoch={pre_epoch}\")\n",
        "\n",
        "losses = []\n",
        "offset = pre_epoch\n",
        "\n",
        "\n",
        "for step in range(n_epoch - offset):\n",
        "    epoch = step + offset\n",
        "    loss = train(device, epoch, model, optimizer, train_loader, save_step, save_ckpt_path, train_step)\n",
        "    losses.append(loss)\n",
        "    train_step = 0\n",
        "\n",
        "# data\n",
        "data = {\n",
        "    \"loss\": losses\n",
        "}\n",
        "df = pd.DataFrame(data)\n",
        "display(df)\n",
        "\n",
        "# graph\n",
        "plt.figure(figsize=[12, 4])\n",
        "plt.plot(losses, label=\"loss\")\n",
        "plt.legend()\n",
        "plt.xlabel('Epoch')\n",
        "plt.ylabel('Loss')\n",
        "plt.show()"
      ],
      "execution_count": null,
      "outputs": [
        {
          "name": "stdout",
          "output_type": "stream",
          "text": [
            "load pretrain from: drive/My Drive/ML/KDT/Final/conversationModel/checkpoint/kobert-emotion-text-classification.pth, epoch=34\n"
          ]
        },
        {
          "name": "stderr",
          "output_type": "stream",
          "text": [
            "Train(34): 100%|█████████▉| 5758/5759 [05:41<00:00, 16.88it/s, Loss: 0.030 (0.146)]\n",
            "Train(35): 100%|██████████| 5759/5759 [41:52<00:00,  2.29it/s, Loss: 0.056 (0.173)]\n",
            "Train(36): 100%|██████████| 5759/5759 [41:37<00:00,  2.31it/s, Loss: 0.026 (0.154)]\n",
            "Train(37): 100%|██████████| 5759/5759 [41:33<00:00,  2.31it/s, Loss: 0.013 (0.147)]\n",
            "Train(38): 100%|██████████| 5759/5759 [41:26<00:00,  2.32it/s, Loss: 0.020 (0.141)]\n",
            "Train(39): 100%|██████████| 5759/5759 [41:21<00:00,  2.32it/s, Loss: 1.241 (0.129)]\n",
            "Train(40): 100%|██████████| 5759/5759 [41:31<00:00,  2.31it/s, Loss: 0.004 (0.124)]\n",
            "Train(41): 100%|██████████| 5759/5759 [41:27<00:00,  2.31it/s, Loss: 0.000 (0.120)]\n",
            "Train(42): 100%|██████████| 5759/5759 [41:20<00:00,  2.32it/s, Loss: 0.006 (0.113)]\n",
            "Train(43): 100%|██████████| 5759/5759 [41:39<00:00,  2.30it/s, Loss: 0.003 (0.109)]\n",
            "Train(44): 100%|██████████| 5759/5759 [41:34<00:00,  2.31it/s, Loss: 0.562 (0.105)]\n",
            "Train(45): 100%|██████████| 5759/5759 [41:39<00:00,  2.30it/s, Loss: 0.000 (0.102)]\n",
            "Train(46): 100%|██████████| 5759/5759 [41:35<00:00,  2.31it/s, Loss: 0.002 (0.095)]\n",
            "Train(47): 100%|██████████| 5759/5759 [41:36<00:00,  2.31it/s, Loss: 0.000 (0.093)]\n",
            "Train(48): 100%|██████████| 5759/5759 [41:03<00:00,  2.34it/s, Loss: 0.000 (0.092)]\n",
            "Train(49): 100%|██████████| 5759/5759 [41:41<00:00,  2.30it/s, Loss: 0.077 (0.087)]\n"
          ]
        },
        {
          "data": {
            "text/html": [
              "<div>\n",
              "<style scoped>\n",
              "    .dataframe tbody tr th:only-of-type {\n",
              "        vertical-align: middle;\n",
              "    }\n",
              "\n",
              "    .dataframe tbody tr th {\n",
              "        vertical-align: top;\n",
              "    }\n",
              "\n",
              "    .dataframe thead th {\n",
              "        text-align: right;\n",
              "    }\n",
              "</style>\n",
              "<table border=\"1\" class=\"dataframe\">\n",
              "  <thead>\n",
              "    <tr style=\"text-align: right;\">\n",
              "      <th></th>\n",
              "      <th>loss</th>\n",
              "    </tr>\n",
              "  </thead>\n",
              "  <tbody>\n",
              "    <tr>\n",
              "      <th>0</th>\n",
              "      <td>0.145530</td>\n",
              "    </tr>\n",
              "    <tr>\n",
              "      <th>1</th>\n",
              "      <td>0.173442</td>\n",
              "    </tr>\n",
              "    <tr>\n",
              "      <th>2</th>\n",
              "      <td>0.154108</td>\n",
              "    </tr>\n",
              "    <tr>\n",
              "      <th>3</th>\n",
              "      <td>0.146757</td>\n",
              "    </tr>\n",
              "    <tr>\n",
              "      <th>4</th>\n",
              "      <td>0.141249</td>\n",
              "    </tr>\n",
              "    <tr>\n",
              "      <th>5</th>\n",
              "      <td>0.128890</td>\n",
              "    </tr>\n",
              "    <tr>\n",
              "      <th>6</th>\n",
              "      <td>0.123618</td>\n",
              "    </tr>\n",
              "    <tr>\n",
              "      <th>7</th>\n",
              "      <td>0.119644</td>\n",
              "    </tr>\n",
              "    <tr>\n",
              "      <th>8</th>\n",
              "      <td>0.113378</td>\n",
              "    </tr>\n",
              "    <tr>\n",
              "      <th>9</th>\n",
              "      <td>0.108592</td>\n",
              "    </tr>\n",
              "    <tr>\n",
              "      <th>10</th>\n",
              "      <td>0.104601</td>\n",
              "    </tr>\n",
              "    <tr>\n",
              "      <th>11</th>\n",
              "      <td>0.101778</td>\n",
              "    </tr>\n",
              "    <tr>\n",
              "      <th>12</th>\n",
              "      <td>0.094958</td>\n",
              "    </tr>\n",
              "    <tr>\n",
              "      <th>13</th>\n",
              "      <td>0.092707</td>\n",
              "    </tr>\n",
              "    <tr>\n",
              "      <th>14</th>\n",
              "      <td>0.091563</td>\n",
              "    </tr>\n",
              "    <tr>\n",
              "      <th>15</th>\n",
              "      <td>0.086700</td>\n",
              "    </tr>\n",
              "  </tbody>\n",
              "</table>\n",
              "</div>"
            ],
            "text/plain": [
              "        loss\n",
              "0   0.145530\n",
              "1   0.173442\n",
              "2   0.154108\n",
              "3   0.146757\n",
              "4   0.141249\n",
              "5   0.128890\n",
              "6   0.123618\n",
              "7   0.119644\n",
              "8   0.113378\n",
              "9   0.108592\n",
              "10  0.104601\n",
              "11  0.101778\n",
              "12  0.094958\n",
              "13  0.092707\n",
              "14  0.091563\n",
              "15  0.086700"
            ]
          },
          "metadata": {},
          "output_type": "display_data"
        },
        {
          "data": {
            "image/png": "[encoded data removed]",
            "text/plain": [
              "<Figure size 864x288 with 1 Axes>"
            ]
          },
          "metadata": {},
          "output_type": "display_data"
        }
      ]
    }
  ]
}